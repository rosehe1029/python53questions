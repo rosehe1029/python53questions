{
 "cells": [
  {
   "cell_type": "code",
   "execution_count": null,
   "metadata": {},
   "outputs": [],
   "source": [
    "23. 举出几个可变和不可变对象的例子？\n",
    "\n",
    "不可变意味着创建后不能修改状态。例如：int、float、bool、string和tuple。\n",
    "\n",
    "可变意味着可以在创建后修改状态。例如列表（list）、字典（dict）和集合（set）。"
   ]
  }
 ],
 "metadata": {
  "kernelspec": {
   "display_name": "Python 3",
   "language": "python",
   "name": "python3"
  },
  "language_info": {
   "codemirror_mode": {
    "name": "ipython",
    "version": 3
   },
   "file_extension": ".py",
   "mimetype": "text/x-python",
   "name": "python",
   "nbconvert_exporter": "python",
   "pygments_lexer": "ipython3",
   "version": "3.6.5"
  }
 },
 "nbformat": 4,
 "nbformat_minor": 2
}
