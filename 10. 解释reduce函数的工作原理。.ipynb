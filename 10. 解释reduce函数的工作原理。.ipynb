{
 "cells": [
  {
   "cell_type": "code",
   "execution_count": null,
   "metadata": {},
   "outputs": [],
   "source": [
    "#10. 解释reduce函数的工作原理。\n",
    "\n",
    "#这个问题很棘手，在你使用过它几次之前，你得努力尝试自己能够理解它。\n",
    "reduce接受一个函数和一个序列，然后对序列进行迭代。在每次迭代中，当前元素和前一个元素的输出都传递给函数。最后，返回一个值。\n",
    "\n",
    "from functools import reduce\n",
    "def add_three(x,y):\n",
    "    return x + y\n",
    "    li = [1,2,3,5]\n",
    "    reduce(add_three, li)\n",
    "#=> 11\n",
    "\n",
    "\n",
    "返回11，它是1 + 2 + 3 + 5的总和。"
   ]
  }
 ],
 "metadata": {
  "kernelspec": {
   "display_name": "Python 3",
   "language": "python",
   "name": "python3"
  },
  "language_info": {
   "codemirror_mode": {
    "name": "ipython",
    "version": 3
   },
   "file_extension": ".py",
   "mimetype": "text/x-python",
   "name": "python",
   "nbconvert_exporter": "python",
   "pygments_lexer": "ipython3",
   "version": "3.6.5"
  }
 },
 "nbformat": 4,
 "nbformat_minor": 2
}
