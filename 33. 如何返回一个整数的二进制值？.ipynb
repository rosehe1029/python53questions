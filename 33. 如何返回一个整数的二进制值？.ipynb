{
 "cells": [
  {
   "cell_type": "code",
   "execution_count": 1,
   "metadata": {},
   "outputs": [
    {
     "data": {
      "text/plain": [
       "'0b101'"
      ]
     },
     "execution_count": 1,
     "metadata": {},
     "output_type": "execute_result"
    }
   ],
   "source": [
    "#33. 如何返回一个整数的二进制值？\n",
    "\n",
    "#使用bin()函数。\n",
    "\n",
    "bin(5)\n",
    "#=> '0b101'"
   ]
  },
  {
   "cell_type": "code",
   "execution_count": 2,
   "metadata": {},
   "outputs": [
    {
     "ename": "SyntaxError",
     "evalue": "invalid syntax (<ipython-input-2-9bcccb853b90>, line 3)",
     "output_type": "error",
     "traceback": [
      "\u001b[1;36m  File \u001b[1;32m\"<ipython-input-2-9bcccb853b90>\"\u001b[1;36m, line \u001b[1;32m3\u001b[0m\n\u001b[1;33m    typedef unsigned int uint;\u001b[0m\n\u001b[1;37m                   ^\u001b[0m\n\u001b[1;31mSyntaxError\u001b[0m\u001b[1;31m:\u001b[0m invalid syntax\n"
     ]
    }
   ],
   "source": [
    "#include<stdio.h>\n",
    "#include<math.h>\n",
    "typedef unsigned int uint;\n",
    "\n",
    "\n",
    "uint reverse_bit(uint value)\n",
    "{\n",
    "     int i = 31;\n",
    "     uint newnum= 0;\n",
    "     \n",
    "     for(;i>=0;i--)\n",
    "     {\n",
    "          newnum = newnum + (value %2 ) * pow(2, i);\n",
    "          value /= 2;\n",
    "     }\n",
    "     return newnum;\n",
    "}\n",
    "\n",
    "\n",
    "int main()\n",
    "{\n",
    "     uint ret=reverse_bit(25);\n",
    "     printf(\"翻转后的值为:%u\\n\",ret);\n",
    "     return 0;\n",
    "}"
   ]
  },
  {
   "cell_type": "code",
   "execution_count": null,
   "metadata": {},
   "outputs": [],
   "source": []
  }
 ],
 "metadata": {
  "kernelspec": {
   "display_name": "Python 3",
   "language": "python",
   "name": "python3"
  },
  "language_info": {
   "codemirror_mode": {
    "name": "ipython",
    "version": 3
   },
   "file_extension": ".py",
   "mimetype": "text/x-python",
   "name": "python",
   "nbconvert_exporter": "python",
   "pygments_lexer": "ipython3",
   "version": "3.6.5"
  }
 },
 "nbformat": 4,
 "nbformat_minor": 2
}
