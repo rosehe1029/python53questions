{
 "cells": [
  {
   "cell_type": "code",
   "execution_count": 3,
   "metadata": {},
   "outputs": [
    {
     "ename": "SyntaxError",
     "evalue": "invalid syntax (<ipython-input-3-5139d596c70d>, line 9)",
     "output_type": "error",
     "traceback": [
      "\u001b[1;36m  File \u001b[1;32m\"<ipython-input-3-5139d596c70d>\"\u001b[1;36m, line \u001b[1;32m9\u001b[0m\n\u001b[1;33m    a2.append(i + 1)print(a2)\u001b[0m\n\u001b[1;37m                        ^\u001b[0m\n\u001b[1;31mSyntaxError\u001b[0m\u001b[1;31m:\u001b[0m invalid syntax\n"
     ]
    }
   ],
   "source": [
    "#44. 如何将for循环转换为使用递推式构造列表（list comprehension）？\n",
    "\n",
    "#For循环如下：\n",
    "\n",
    "a = [1,2,3,4,5]\n",
    "\n",
    "a2 = []\n",
    "for i in a:\n",
    "    a2.append(i + 1)print(a2)\n",
    "#=> [2, 3, 4, 5, 6]\n",
    "\n",
    "\n",
    "#用递推式构造列表来修改这个for循环，代码如下：\n",
    "a\n",
    "\n",
    "a3 = [i+1 for i in a]\n",
    "\n",
    "print(a3)\n",
    "#=> [2, 3, 4, 5, 6]\n",
    "\n",
    "\n",
    "#递推式构造列表通常被认为更具Python风格，同时仍易于阅读。"
   ]
  },
  {
   "cell_type": "code",
   "execution_count": null,
   "metadata": {},
   "outputs": [],
   "source": []
  },
  {
   "cell_type": "code",
   "execution_count": null,
   "metadata": {},
   "outputs": [],
   "source": []
  },
  {
   "cell_type": "code",
   "execution_count": null,
   "metadata": {},
   "outputs": [],
   "source": []
  },
  {
   "cell_type": "code",
   "execution_count": null,
   "metadata": {},
   "outputs": [],
   "source": []
  }
 ],
 "metadata": {
  "kernelspec": {
   "display_name": "Python 3",
   "language": "python",
   "name": "python3"
  },
  "language_info": {
   "codemirror_mode": {
    "name": "ipython",
    "version": 3
   },
   "file_extension": ".py",
   "mimetype": "text/x-python",
   "name": "python",
   "nbconvert_exporter": "python",
   "pygments_lexer": "ipython3",
   "version": "3.6.5"
  }
 },
 "nbformat": 4,
 "nbformat_minor": 2
}
