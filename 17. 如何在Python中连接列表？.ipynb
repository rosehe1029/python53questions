{
 "cells": [
  {
   "cell_type": "code",
   "execution_count": 1,
   "metadata": {},
   "outputs": [],
   "source": [
    "17. 如何在Python中连接列表？\n",
    "\n",
    "将2个列表相加，就是将它们连接在一起。但请注意，数组的工作方式不是这样的。\n",
    "\n",
    "a = [1,2]\n",
    "b = [3,4,5]\n",
    "\n",
    "a + b\n",
    "#=> [1, 2, 3, 4, 5]"
   ]
  },
  {
   "cell_type": "code",
   "execution_count": null,
   "metadata": {},
   "outputs": [],
   "source": []
  }
 ],
 "metadata": {
  "kernelspec": {
   "display_name": "Python 3",
   "language": "python",
   "name": "python3"
  }
 },
 "nbformat": 4,
 "nbformat_minor": 2
}
