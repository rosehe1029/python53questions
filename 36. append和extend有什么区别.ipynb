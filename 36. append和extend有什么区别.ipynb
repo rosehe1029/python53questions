{
 "cells": [
  {
   "cell_type": "code",
   "execution_count": 3,
   "metadata": {},
   "outputs": [
    {
     "name": "stdout",
     "output_type": "stream",
     "text": [
      "[1, 2, 3, 6]\n",
      "[1, 2, 3, 4, 5]\n"
     ]
    }
   ],
   "source": [
    "#36. append和extend有什么区别?\n",
    "\n",
    "#Append将一个值添加到一个列表中，而extend将另一个列表的值添加到一个列表中。\n",
    "\n",
    "a = [1,2,3]\n",
    "b = [1,2,3]\n",
    "a.append(6)\n",
    "print(a)\n",
    "#=> [1, 2, 3, 6]\n",
    "b.extend([4,5])\n",
    "print(b)\n",
    "#=> [1, 2, 3, 4, 5]"
   ]
  },
  {
   "cell_type": "code",
   "execution_count": null,
   "metadata": {},
   "outputs": [],
   "source": []
  }
 ],
 "metadata": {
  "kernelspec": {
   "display_name": "Python 3",
   "language": "python",
   "name": "python3"
  },
  "language_info": {
   "codemirror_mode": {
    "name": "ipython",
    "version": 3
   },
   "file_extension": ".py",
   "mimetype": "text/x-python",
   "name": "python",
   "nbconvert_exporter": "python",
   "pygments_lexer": "ipython3",
   "version": "3.6.5"
  }
 },
 "nbformat": 4,
 "nbformat_minor": 2
}
