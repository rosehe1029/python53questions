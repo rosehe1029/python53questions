{
 "cells": [
  {
   "cell_type": "code",
   "execution_count": 4,
   "metadata": {},
   "outputs": [
    {
     "data": {
      "text/plain": [
       "[2, 4, 6, 8]"
      ]
     },
     "execution_count": 4,
     "metadata": {},
     "output_type": "execute_result"
    }
   ],
   "source": [
    "'''\n",
    "11.解释filter函数的工作原理\n",
    "\n",
    "Filter函数顾名思义，是用来按顺序过滤元素。\n",
    "\n",
    "每个元素都被传递给一个函数，如果函数返回True，则在输出序列中返回该元素；如果函数返回False，则将其丢弃。\n",
    "'''\n",
    "\n",
    "\n",
    "def add_three(x):\n",
    "    if x % 2 == 0:\n",
    "        return True        \n",
    "    else:\n",
    "        return False\n",
    "    \n",
    "    \n",
    "li = [1,2,3,4,5,6,7,8]\n",
    "[i for i in filter(add_three, li)]\n",
    "#=> [2, 4, 6, 8]"
   ]
  },
  {
   "cell_type": "code",
   "execution_count": null,
   "metadata": {},
   "outputs": [],
   "source": []
  }
 ],
 "metadata": {
  "kernelspec": {
   "display_name": "Python 3",
   "language": "python",
   "name": "python3"
  },
  "language_info": {
   "codemirror_mode": {
    "name": "ipython",
    "version": 3
   },
   "file_extension": ".py",
   "mimetype": "text/x-python",
   "name": "python",
   "nbconvert_exporter": "python",
   "pygments_lexer": "ipython3",
   "version": "3.6.5"
  }
 },
 "nbformat": 4,
 "nbformat_minor": 2
}
