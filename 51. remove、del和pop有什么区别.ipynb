{
 "cells": [
  {
   "cell_type": "code",
   "execution_count": 1,
   "metadata": {},
   "outputs": [
    {
     "data": {
      "text/plain": [
       "['a', 'b', 'd']"
      ]
     },
     "execution_count": 1,
     "metadata": {},
     "output_type": "execute_result"
    }
   ],
   "source": [
    "#51. remove、del和pop有什么区别?\n",
    "\n",
    "#remove() 删除第一个匹配的值。\n",
    "\n",
    "li = ['a','b','c','d']\n",
    "\n",
    "li.remove('b')\n",
    "li\n",
    "#=> ['a', 'c', 'd']\n",
    "\n",
    "\n",
    "#del按索引删除元素。\n",
    "\n",
    "li = ['a','b','c','d']\n",
    "\n",
    "del li[0]\n",
    "li\n",
    "#=> ['b', 'c', 'd']\n",
    "\n",
    "\n",
    "#pop() 按索引删除一个元素并返回该元素。\n",
    "\n",
    "li = ['a','b','c','d']\n",
    "\n",
    "li.pop(2)\n",
    "#=> 'c'\n",
    "\n",
    "li\n",
    "#=> ['a', 'b', 'd']"
   ]
  },
  {
   "cell_type": "code",
   "execution_count": null,
   "metadata": {},
   "outputs": [],
   "source": []
  },
  {
   "cell_type": "code",
   "execution_count": null,
   "metadata": {},
   "outputs": [],
   "source": []
  },
  {
   "cell_type": "code",
   "execution_count": null,
   "metadata": {},
   "outputs": [],
   "source": []
  },
  {
   "cell_type": "code",
   "execution_count": null,
   "metadata": {},
   "outputs": [],
   "source": []
  }
 ],
 "metadata": {
  "kernelspec": {
   "display_name": "Python 3",
   "language": "python",
   "name": "python3"
  },
  "language_info": {
   "codemirror_mode": {
    "name": "ipython",
    "version": 3
   },
   "file_extension": ".py",
   "mimetype": "text/x-python",
   "name": "python",
   "nbconvert_exporter": "python",
   "pygments_lexer": "ipython3",
   "version": "3.6.5"
  }
 },
 "nbformat": 4,
 "nbformat_minor": 2
}
