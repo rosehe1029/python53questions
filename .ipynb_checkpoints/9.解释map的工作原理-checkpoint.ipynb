{
 "cells": [
  {
   "cell_type": "code",
   "execution_count": 3,
   "metadata": {},
   "outputs": [
    {
     "ename": "SyntaxError",
     "evalue": "invalid syntax (<ipython-input-3-5ac51cf848f6>, line 6)",
     "output_type": "error",
     "traceback": [
      "\u001b[1;36m  File \u001b[1;32m\"<ipython-input-3-5ac51cf848f6>\"\u001b[1;36m, line \u001b[1;32m6\u001b[0m\n\u001b[1;33m    return x + 3 li = [1,2,3][i for i in map(add_three, li)]\u001b[0m\n\u001b[1;37m                  ^\u001b[0m\n\u001b[1;31mSyntaxError\u001b[0m\u001b[1;31m:\u001b[0m invalid syntax\n"
     ]
    }
   ],
   "source": [
    "#9. 解释map函数的工作原理。\n",
    "\n",
    "#Map函数返回一个列表，该列表由对序列中的每个元素应用一个函数时返回的值组成。\n",
    "\n",
    "def add_three(x):\n",
    "    return x + 3 li = [1,2,3][i for i in map(add_three, li)]\n",
    "#=> [4, 5, 6]\n",
    "\n",
    "\n",
    "#上面，我对列表中的每个元素的值加了3。"
   ]
  },
  {
   "cell_type": "code",
   "execution_count": null,
   "metadata": {},
   "outputs": [],
   "source": []
  }
 ],
 "metadata": {
  "kernelspec": {
   "display_name": "Python 3",
   "language": "python",
   "name": "python3"
  },
  "language_info": {
   "codemirror_mode": {
    "name": "ipython",
    "version": 3
   },
   "file_extension": ".py",
   "mimetype": "text/x-python",
   "name": "python",
   "nbconvert_exporter": "python",
   "pygments_lexer": "ipython3",
   "version": "3.6.5"
  }
 },
 "nbformat": 4,
 "nbformat_minor": 2
}
