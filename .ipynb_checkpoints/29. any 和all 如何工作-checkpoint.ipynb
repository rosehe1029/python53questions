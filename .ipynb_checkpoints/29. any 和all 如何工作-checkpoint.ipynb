{
 "cells": [
  {
   "cell_type": "markdown",
   "metadata": {},
   "source": [
    "29. any()和all()如何工作?"
   ]
  },
  {
   "cell_type": "raw",
   "metadata": {},
   "source": [
    "Any接受一个序列，如果序列中的任何元素为true，则返回true。\n",
    "All只有当序列中的所有元素都为true时，才返回true。\n",
    "\n",
    "a = [False, False, False]\n",
    "b = [True, False, False]\n",
    "c = [True, True, True]\n",
    "print( any(a) )\n",
    "print( any(b) )\n",
    "print( any(c) )\n",
    "#=> False\n",
    "#=> True\n",
    "#=> True\n",
    "print( all(a) )\n",
    "print( all(b) )\n",
    "print( all(c) )\n",
    "#=> False\n",
    "#=> False\n",
    "#=> True"
   ]
  },
  {
   "cell_type": "code",
   "execution_count": null,
   "metadata": {},
   "outputs": [],
   "source": []
  }
 ],
 "metadata": {
  "kernelspec": {
   "display_name": "Python 3",
   "language": "python",
   "name": "python3"
  },
  "language_info": {
   "codemirror_mode": {
    "name": "ipython",
    "version": 3
   },
   "file_extension": ".py",
   "mimetype": "text/x-python",
   "name": "python",
   "nbconvert_exporter": "python",
   "pygments_lexer": "ipython3",
   "version": "3.6.5"
  }
 },
 "nbformat": 4,
 "nbformat_minor": 2
}
