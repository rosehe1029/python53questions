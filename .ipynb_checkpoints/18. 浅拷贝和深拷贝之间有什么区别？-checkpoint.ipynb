{
 "cells": [
  {
   "cell_type": "code",
   "execution_count": 1,
   "metadata": {},
   "outputs": [
    {
     "ename": "SyntaxError",
     "evalue": "invalid character in identifier (<ipython-input-1-5be5fdd8ed6f>, line 1)",
     "output_type": "error",
     "traceback": [
      "\u001b[1;36m  File \u001b[1;32m\"<ipython-input-1-5be5fdd8ed6f>\"\u001b[1;36m, line \u001b[1;32m1\u001b[0m\n\u001b[1;33m    18. 浅拷贝和深拷贝之间有什么区别？\u001b[0m\n\u001b[1;37m                      ^\u001b[0m\n\u001b[1;31mSyntaxError\u001b[0m\u001b[1;31m:\u001b[0m invalid character in identifier\n"
     ]
    }
   ],
   "source": [
    "18. 浅拷贝和深拷贝之间有什么区别？\n",
    "\n",
    "我们将在一个可变对象（列表）的上下文中讨论这个问题，对于不可变的对象，浅拷贝和深拷贝的区别并不重要。\n",
    "\n",
    "我们将介绍三种情况。\n",
    "\n",
    "1. 引用原始对象。这将新对象li2指向li1所指向的内存中的同一位置。因此，我们对li1所做的任何更改也会在li2中发生。\n",
    "\n",
    "li1 = [['a'],['b'],['c']]\n",
    "li2 = li1\n",
    "li1.append(['d'])\n",
    "print(li2)\n",
    "#=> [['a'], ['b'], ['c'], ['d']]\n",
    "\n",
    "\n",
    "2. 创建原始对象的浅拷贝副本。我们可以使用list()构造函数来实现这一点。浅拷贝创建一个新对象，但是用对原始对象的引用填充它。因此，向原始列表li3中添加新对象不会传播到li4中，但是修改li3中的一个对象将传播到li4中。\n",
    "\n",
    "li3 = [['a'],['b'],['c']]\n",
    "li4 = list(li3)\n",
    "li3.append([4])\n",
    "print(li4)\n",
    "#=> [['a'], ['b'], ['c']]\n",
    "li3[0][0] = ['X']\n",
    "print(li4)\n",
    "#=> [[['X']], ['b'], ['c']]\n",
    "\n",
    "\n",
    "3. 创建一个深拷贝副本。这是用copy.deepcopy()完成的。现在，这两个对象是完全独立的，并且对其中一个对象所做的更改不会对另外一个对象产生影响。\n",
    "\n",
    "import copy\n",
    "li5 = [['a'],['b'],['c']]\n",
    "li6 = copy.deepcopy(li5)\n",
    "li5.append([4])\n",
    "li5[0][0] = ['X']\n",
    "print(li6)\n",
    "#=> [['a'], ['b'], ['c']]"
   ]
  },
  {
   "cell_type": "code",
   "execution_count": 2,
   "metadata": {},
   "outputs": [
    {
     "ename": "SyntaxError",
     "evalue": "invalid character in identifier (<ipython-input-2-adeba5842a89>, line 1)",
     "output_type": "error",
     "traceback": [
      "\u001b[1;36m  File \u001b[1;32m\"<ipython-input-2-adeba5842a89>\"\u001b[1;36m, line \u001b[1;32m1\u001b[0m\n\u001b[1;33m    深拷贝和浅拷贝最根本的区别在于是否真正获取一个对象的复制实体，而不是引用。\u001b[0m\n\u001b[1;37m                                        ^\u001b[0m\n\u001b[1;31mSyntaxError\u001b[0m\u001b[1;31m:\u001b[0m invalid character in identifier\n"
     ]
    }
   ],
   "source": [
    "深拷贝和浅拷贝最根本的区别在于是否真正获取一个对象的复制实体，而不是引用。\n",
    "\n",
    "假设B复制了A，修改A的时候，看B是否发生变化：\n",
    "\n",
    "如果B跟着也变了，说明是浅拷贝，拿人手短！（修改堆内存中的同一个值）\n",
    "\n",
    "如果B没有改变，说明是深拷贝，自食其力！（修改堆内存中的不同的值）"
   ]
  },
  {
   "cell_type": "code",
   "execution_count": 3,
   "metadata": {},
   "outputs": [
    {
     "ename": "SyntaxError",
     "evalue": "invalid character in identifier (<ipython-input-3-c523f21e3a01>, line 1)",
     "output_type": "error",
     "traceback": [
      "\u001b[1;36m  File \u001b[1;32m\"<ipython-input-3-c523f21e3a01>\"\u001b[1;36m, line \u001b[1;32m1\u001b[0m\n\u001b[1;33m    浅拷贝（shallowCopy）只是增加了一个指针指向已存在的内存地址，\u001b[0m\n\u001b[1;37m                                       ^\u001b[0m\n\u001b[1;31mSyntaxError\u001b[0m\u001b[1;31m:\u001b[0m invalid character in identifier\n"
     ]
    }
   ],
   "source": [
    "浅拷贝（shallowCopy）只是增加了一个指针指向已存在的内存地址，\n",
    "\n",
    "深拷贝（deepCopy）是增加了一个指针并且申请了一个新的内存，使这个增加的指针指向这个新的内存，\n",
    "\n",
    "使用深拷贝的情况下，释放内存的时候不会因为出现浅拷贝时释放同一个内存的错误。\n",
    "\n",
    " \n",
    "\n",
    "浅复制：仅仅是指向被复制的内存地址，如果原地址发生改变，那么浅复制出来的对象也会相应的改变。\n",
    "\n",
    "深复制：在计算机中开辟一块新的内存地址用于存放复制的对象。\n",
    "\n",
    " \n",
    "\n",
    "浅拷贝实例:\n",
    "\n",
    " \n",
    "\n",
    "//此递归方法不包含数组对象\n",
    "var obj = { a:1, arr: [2,3] };\n",
    "var shallowObj = shallowCopy(obj);\n",
    "\n",
    "function shallowCopy(src) {\n",
    "  var newobj = {};\n",
    "  for (var prop in src) {\n",
    "    if (src.hasOwnProperty(prop)) {\n",
    "      newobj[prop] = src[prop];\n",
    "    }\n",
    "  }\n",
    "  return newobj;\n",
    "}\n",
    "\n",
    " \n",
    "\n",
    "因为浅复制只会将对象的各个属性进行复制，并不会进行递归复制，而JavaScript存储对象是存地址的，所以浅复制会导致Obj.arr和shallowObj.arr指向同一块内存地址：\n",
    "\n"
   ]
  },
  {
   "cell_type": "markdown",
   "metadata": {},
   "source": [
    "而深复制则不同，它不仅将原对象的各个属性逐个复制出去，而且将原对象各个属性所包含的对象也依次采用深复制的方法递归复制到新对象上。这就不会存在obj和shallowObj的arr属性指向同一个对象的问题。"
   ]
  },
  {
   "cell_type": "code",
   "execution_count": null,
   "metadata": {},
   "outputs": [],
   "source": []
  }
 ],
 "metadata": {
  "kernelspec": {
   "display_name": "Python 3",
   "language": "python",
   "name": "python3"
  }
 },
 "nbformat": 4,
 "nbformat_minor": 2
}
