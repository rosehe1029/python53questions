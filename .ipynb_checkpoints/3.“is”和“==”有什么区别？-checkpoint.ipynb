{
 "cells": [
  {
   "cell_type": "markdown",
   "metadata": {},
   "source": [
    "“is”用来检查对象的标识(id)，而“==”用来检查两个对象是否相等。\n",
    "我们将通过一个例子说明。创建一些列表并将其分配给不同的名字。请注意，下面的b指向与a相同的对象。\n",
    "\n",
    "a = [1,2,3]\n",
    "b = a\n",
    "c = [1,2,3]\n",
    "\n",
    "\n",
    "下面来检查是否相等，你会注意到结果显示它们都是相等的。\n",
    "\n",
    "print(a == b)\n",
    "print(a == c)\n",
    "#=> True\n",
    "#=> True\n",
    "\n",
    "\n",
    "但是它们具有相同的标识（id）吗？答案是不。\n",
    "\n",
    "print(a is b)\n",
    "print(a is c)\n",
    "#=> True\n",
    "#=> False\n",
    "\n",
    "\n",
    "我们可以通过打印他们的对象标识（id）来验证这一点。\n",
    "\n",
    "print(id(a))\n",
    "print(id(b))\n",
    "print(id(c))\n",
    "#=> 4369567560\n",
    "#=> 4369567560\n",
    "#=> 4369567624\n",
    "\n",
    "你可以看到：c和a和b具有不同的标识（id）。\n",
    "\n"
   ]
  },
  {
   "cell_type": "markdown",
   "metadata": {},
   "source": [
    "###### Python中比较变量有两种方法：is和==，二者在含义上有着根本的区别。\n",
    "\n",
    "    is 表示是否指向同一内存中的内容，a is b即id(a) == id(b)\n",
    "    == 表示二者所指向的值是否一致\n",
    "\n"
   ]
  },
  {
   "cell_type": "code",
   "execution_count": 2,
   "metadata": {},
   "outputs": [
    {
     "data": {
      "text/plain": [
       "False"
      ]
     },
     "execution_count": 2,
     "metadata": {},
     "output_type": "execute_result"
    }
   ],
   "source": [
    "a=666\n",
    "b=666\n",
    "\n",
    "a is b"
   ]
  },
  {
   "cell_type": "code",
   "execution_count": 3,
   "metadata": {},
   "outputs": [
    {
     "data": {
      "text/plain": [
       "1526179371664"
      ]
     },
     "execution_count": 3,
     "metadata": {},
     "output_type": "execute_result"
    }
   ],
   "source": [
    "id(a)"
   ]
  },
  {
   "cell_type": "code",
   "execution_count": 4,
   "metadata": {},
   "outputs": [
    {
     "data": {
      "text/plain": [
       "1526179371792"
      ]
     },
     "execution_count": 4,
     "metadata": {},
     "output_type": "execute_result"
    }
   ],
   "source": [
    "id(b)"
   ]
  },
  {
   "cell_type": "code",
   "execution_count": 5,
   "metadata": {},
   "outputs": [
    {
     "data": {
      "text/plain": [
       "True"
      ]
     },
     "execution_count": 5,
     "metadata": {},
     "output_type": "execute_result"
    }
   ],
   "source": [
    "a==b"
   ]
  },
  {
   "cell_type": "markdown",
   "metadata": {},
   "source": [
    "None 在 Python 语言中是一个单例对象，如果你要判断某个变量是否为 None 时，记得使用 is而不是 ==，因为只有 is才能在严格意义上表示某个变量是否是 None。"
   ]
  },
  {
   "cell_type": "code",
   "execution_count": null,
   "metadata": {},
   "outputs": [],
   "source": []
  }
 ],
 "metadata": {
  "kernelspec": {
   "display_name": "Python 3",
   "language": "python",
   "name": "python3"
  },
  "language_info": {
   "codemirror_mode": {
    "name": "ipython",
    "version": 3
   },
   "file_extension": ".py",
   "mimetype": "text/x-python",
   "name": "python",
   "nbconvert_exporter": "python",
   "pygments_lexer": "ipython3",
   "version": "3.6.5"
  }
 },
 "nbformat": 4,
 "nbformat_minor": 2
}
