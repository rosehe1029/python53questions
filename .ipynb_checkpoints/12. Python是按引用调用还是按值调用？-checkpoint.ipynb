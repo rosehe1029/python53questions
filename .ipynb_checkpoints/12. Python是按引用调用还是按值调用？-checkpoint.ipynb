{
 "cells": [
  {
   "cell_type": "code",
   "execution_count": 2,
   "metadata": {},
   "outputs": [
    {
     "ename": "SyntaxError",
     "evalue": "invalid character in identifier (<ipython-input-2-1a3f2b140cb4>, line 1)",
     "output_type": "error",
     "traceback": [
      "\u001b[1;36m  File \u001b[1;32m\"<ipython-input-2-1a3f2b140cb4>\"\u001b[1;36m, line \u001b[1;32m1\u001b[0m\n\u001b[1;33m    12. Python是按引用调用还是按值调用？\u001b[0m\n\u001b[1;37m                          ^\u001b[0m\n\u001b[1;31mSyntaxError\u001b[0m\u001b[1;31m:\u001b[0m invalid character in identifier\n"
     ]
    }
   ],
   "source": [
    "12. Python是按引用调用还是按值调用？\n",
    "\n",
    "如果你在谷歌上搜索这个问题并阅读前几页，你就要准备好进入语义的迷宫了。你最好只是了解它的工作原理。\n",
    "\n",
    "不可变对象（如字符串、数字和元组等）是按值调用的。请注意下面的例子，当在函数内部修改时，name的值在函数外部不会发生变化。name的值已分配给内存中该函数作用域的新块。\n",
    "\n",
    "name = 'chr'\n",
    "def add_chars(s):\n",
    "   s += 'is'\n",
    "   print(s)\n",
    "add_chars(name)    \n",
    "print(name)\n",
    "#=> chris\n",
    "#=> chr\n",
    "\n",
    "\n",
    "可变对象（如列表等）是通过引用调用的。注意下面的例子中，函数外部定义的列表在函数内部的修改是如何影响到函数外部的。函数中的参数指向内存中存储li值的原始块。\n",
    "\n",
    "li = [1,2]\n",
    "def add_element(seq):\n",
    "   seq.append(3)\n",
    "   print(seq)\n",
    "add_element(li)    \n",
    "print(li)\n",
    "#=> [1, 2, 3]\n",
    "#=> [1, 2, 3]"
   ]
  },
  {
   "cell_type": "code",
   "execution_count": null,
   "metadata": {},
   "outputs": [],
   "source": []
  }
 ],
 "metadata": {
  "kernelspec": {
   "display_name": "Python 3",
   "language": "python",
   "name": "python3"
  },
  "language_info": {
   "codemirror_mode": {
    "name": "ipython",
    "version": 3
   },
   "file_extension": ".py",
   "mimetype": "text/x-python",
   "name": "python",
   "nbconvert_exporter": "python",
   "pygments_lexer": "ipython3",
   "version": "3.6.5"
  }
 },
 "nbformat": 4,
 "nbformat_minor": 2
}
