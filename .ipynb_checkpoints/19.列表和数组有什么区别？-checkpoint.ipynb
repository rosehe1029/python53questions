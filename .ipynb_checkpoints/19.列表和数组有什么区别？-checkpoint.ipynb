{
 "cells": [
  {
   "cell_type": "markdown",
   "metadata": {},
   "source": [
    "19. 列表和数组有什么区别？\n",
    "\n",
    "注意：Python的标准库有一个array（数组）对象，但在这里，我特指常用的Numpy数组。\n",
    "\n",
    "    列表存在于python的标准库中。数组由Numpy定义。\n",
    "    列表可以在每个索引处填充不同类型的数据。数组需要同构元素。\n",
    "    列表上的算术运算可从列表中添加或删除元素。数组上的算术运算按照线性代数方式工作。\n",
    "    列表还使用更少的内存，并显著具有更多的功能。"
   ]
  },
  {
   "cell_type": "code",
   "execution_count": null,
   "metadata": {},
   "outputs": [],
   "source": []
  },
  {
   "cell_type": "code",
   "execution_count": null,
   "metadata": {},
   "outputs": [],
   "source": []
  },
  {
   "cell_type": "code",
   "execution_count": null,
   "metadata": {},
   "outputs": [],
   "source": []
  },
  {
   "cell_type": "code",
   "execution_count": null,
   "metadata": {},
   "outputs": [],
   "source": []
  },
  {
   "cell_type": "code",
   "execution_count": null,
   "metadata": {},
   "outputs": [],
   "source": []
  }
 ],
 "metadata": {
  "kernelspec": {
   "display_name": "Python 3",
   "language": "python",
   "name": "python3"
  },
  "language_info": {
   "codemirror_mode": {
    "name": "ipython",
    "version": 3
   },
   "file_extension": ".py",
   "mimetype": "text/x-python",
   "name": "python",
   "nbconvert_exporter": "python",
   "pygments_lexer": "ipython3",
   "version": "3.6.5"
  }
 },
 "nbformat": 4,
 "nbformat_minor": 2
}
