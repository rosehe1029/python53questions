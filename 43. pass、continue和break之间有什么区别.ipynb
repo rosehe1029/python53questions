{
 "cells": [
  {
   "cell_type": "code",
   "execution_count": 2,
   "metadata": {},
   "outputs": [
    {
     "ename": "SyntaxError",
     "evalue": "invalid character in identifier (<ipython-input-2-d449e3b42c3b>, line 3)",
     "output_type": "error",
     "traceback": [
      "\u001b[1;36m  File \u001b[1;32m\"<ipython-input-2-d449e3b42c3b>\"\u001b[1;36m, line \u001b[1;32m3\u001b[0m\n\u001b[1;33m    pass意味着什么都不做。我们之所以通常使用它，是因为Python不允许在没有代码的情况下创建类、函数或if语句。\u001b[0m\n\u001b[1;37m                                                            ^\u001b[0m\n\u001b[1;31mSyntaxError\u001b[0m\u001b[1;31m:\u001b[0m invalid character in identifier\n"
     ]
    }
   ],
   "source": [
    "43. pass、continue和break之间有什么区别?\n",
    "\n",
    "pass意味着什么都不做。我们之所以通常使用它，是因为Python不允许在没有代码的情况下创建类、函数或if语句。\n",
    "\n",
    "在下面的例子中，如果在i>3中没有代码的话，就会抛出一个错误，因此我们使用pass。\n",
    "\n",
    "a = [1,2,3,4,5]\n",
    "for i in a:\n",
    "   if i > 3:\n",
    "       pass\n",
    "   print(i)\n",
    "#=> 1\n",
    "#=> 2\n",
    "#=> 3\n",
    "#=> 4\n",
    "#=> 5\n",
    "\n",
    "\n",
    "Continue会继续到下一个元素并停止当前元素的执行。所以当i<3时，永远不会达到print(i)。\n",
    "\n",
    "for i in a:\n",
    "   if i < 3:\n",
    "       continue\n",
    "   print(i)\n",
    "#=> 3\n",
    "#=> 4\n",
    "#=> 5\n",
    "\n",
    "\n",
    "break会中断循环，序列不再重复下去。所以不会被打印3以后的元素。\n",
    "\n",
    "for i in a:\n",
    "   if i == 3:\n",
    "       break\n",
    "   print(i)    \n",
    "#=> 1\n",
    "#=> 2"
   ]
  },
  {
   "cell_type": "code",
   "execution_count": null,
   "metadata": {},
   "outputs": [],
   "source": []
  },
  {
   "cell_type": "code",
   "execution_count": null,
   "metadata": {},
   "outputs": [],
   "source": []
  },
  {
   "cell_type": "code",
   "execution_count": null,
   "metadata": {},
   "outputs": [],
   "source": []
  },
  {
   "cell_type": "code",
   "execution_count": null,
   "metadata": {},
   "outputs": [],
   "source": []
  }
 ],
 "metadata": {
  "kernelspec": {
   "display_name": "Python 3",
   "language": "python",
   "name": "python3"
  },
  "language_info": {
   "codemirror_mode": {
    "name": "ipython",
    "version": 3
   },
   "file_extension": ".py",
   "mimetype": "text/x-python",
   "name": "python",
   "nbconvert_exporter": "python",
   "pygments_lexer": "ipython3",
   "version": "3.6.5"
  }
 },
 "nbformat": 4,
 "nbformat_minor": 2
}
