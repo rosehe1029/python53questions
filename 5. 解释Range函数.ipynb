{
 "cells": [
  {
   "cell_type": "code",
   "execution_count": 1,
   "metadata": {},
   "outputs": [
    {
     "ename": "SyntaxError",
     "evalue": "invalid character in identifier (<ipython-input-1-6a185dabd6c3>, line 1)",
     "output_type": "error",
     "traceback": [
      "\u001b[1;36m  File \u001b[1;32m\"<ipython-input-1-6a185dabd6c3>\"\u001b[1;36m, line \u001b[1;32m1\u001b[0m\n\u001b[1;33m    Range函数可以用来创建一个整数列表，一般用在for循环中。它有3种使用方法。\u001b[0m\n\u001b[1;37m                                           ^\u001b[0m\n\u001b[1;31mSyntaxError\u001b[0m\u001b[1;31m:\u001b[0m invalid character in identifier\n"
     ]
    }
   ],
   "source": [
    "Range函数可以用来创建一个整数列表，一般用在for循环中。它有3种使用方法。\n",
    "\n",
    "Range函数可以接受1到3个参数，参数必须是整数。\n",
    "\n",
    "请注意：我已经将range的每种用法包装在一个递推式构造列表（list comprehension）中，以便我们可以看到生成的值。\n",
    "\n",
    "用法1 - range(stop)：生成从0到参数“stop”之间的整数。\n",
    "\n",
    "[i for i in range(10)]\n",
    "#=> [0, 1, 2, 3, 4, 5, 6, 7, 8, 9]\n",
    "\n",
    "\n",
    "用法2 - range(start, stop) : 生成从参数“start”到“stop”之间的整数\n",
    "\n",
    "[i for i in range(2,10)]\n",
    "#=> [2, 3, 4, 5, 6, 7, 8, 9]\n",
    "\n",
    "\n",
    "用法3 - range(start, stop, step)：以参数“step”为步长，生成从“start”到“stop”之间的整数。\n",
    "\n",
    "[i for i in range(2,10,2)]\n",
    "#=> [2, 4, 6, 8]"
   ]
  },
  {
   "cell_type": "code",
   "execution_count": null,
   "metadata": {},
   "outputs": [],
   "source": []
  }
 ],
 "metadata": {
  "kernelspec": {
   "display_name": "Python 3",
   "language": "python",
   "name": "python3"
  },
  "language_info": {
   "codemirror_mode": {
    "name": "ipython",
    "version": 3
   },
   "file_extension": ".py",
   "mimetype": "text/x-python",
   "name": "python",
   "nbconvert_exporter": "python",
   "pygments_lexer": "ipython3",
   "version": "3.6.5"
  }
 },
 "nbformat": 4,
 "nbformat_minor": 2
}
